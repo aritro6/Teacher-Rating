{
 "cells": [
  {
   "cell_type": "code",
   "execution_count": 1,
   "metadata": {
    "collapsed": false
   },
   "outputs": [
    {
     "name": "stderr",
     "output_type": "stream",
     "text": [
      "/home/moses/anaconda2/lib/python2.7/site-packages/matplotlib/font_manager.py:273: UserWarning: Matplotlib is building the font cache using fc-list. This may take a moment.\n",
      "  warnings.warn('Matplotlib is building the font cache using fc-list. This may take a moment.')\n"
     ]
    }
   ],
   "source": [
    "import pandas as pd\n",
    "import matplotlib\n",
    "import matplotlib.pyplot as plt\n",
    "matplotlib.style.use('ggplot')\n",
    "%matplotlib inline"
   ]
  },
  {
   "cell_type": "code",
   "execution_count": 2,
   "metadata": {
    "collapsed": true
   },
   "outputs": [],
   "source": [
    "dfbikes = pd.read_csv('data/bay_area_bikeshare/201402_trip_data_v2.csv', parse_dates=['start_date'])"
   ]
  },
  {
   "cell_type": "markdown",
   "metadata": {},
   "source": [
    "# 1.\n",
    "Let's look at the distribution of bike trip duration (in seconds)."
   ]
  },
  {
   "cell_type": "code",
   "execution_count": 3,
   "metadata": {
    "collapsed": false
   },
   "outputs": [
    {
     "data": {
      "text/plain": [
       "count    144015.000000\n",
       "mean       1230.910141\n",
       "std        6652.962329\n",
       "min          60.000000\n",
       "25%         349.000000\n",
       "50%         531.000000\n",
       "75%         797.000000\n",
       "max      722236.000000\n",
       "Name: duration, dtype: float64"
      ]
     },
     "execution_count": 3,
     "metadata": {},
     "output_type": "execute_result"
    }
   ],
   "source": [
    "dfDuration = dfbikes['duration']\n",
    "dfDuration.describe()"
   ]
  },
  {
   "cell_type": "markdown",
   "metadata": {},
   "source": [
    "Whoa, that max duration is way bigger than the median (~8 days versus ~9 minutes).\n",
    "Trying to plot all the data at once in a histogram is inconvenient because of the very long tail, so let's cut it off at 3600."
   ]
  },
  {
   "cell_type": "code",
   "execution_count": 4,
   "metadata": {
    "collapsed": false
   },
   "outputs": [
    {
     "data": {
      "text/plain": [
       "<matplotlib.axes._subplots.AxesSubplot at 0x7f10d0c20510>"
      ]
     },
     "execution_count": 4,
     "metadata": {},
     "output_type": "execute_result"
    },
    {
     "data": {
      "image/png": "[encoded data removed]",
      "text/plain": [
       "<matplotlib.figure.Figure at 0x7f10d0c20410>"
      ]
     },
     "metadata": {},
     "output_type": "display_data"
    }
   ],
   "source": [
    "dfDur = dfDuration[dfDuration <= 3600]\n",
    "dfDur.hist(bins=100)"
   ]
  },
  {
   "cell_type": "markdown",
   "metadata": {},
   "source": [
    "Let's get a closer look by changing our cutoff to 2000"
   ]
  },
  {
   "cell_type": "code",
   "execution_count": 5,
   "metadata": {
    "collapsed": false
   },
   "outputs": [
    {
     "data": {
      "text/plain": [
       "<matplotlib.axes._subplots.AxesSubplot at 0x7f10d054fc90>"
      ]
     },
     "execution_count": 5,
     "metadata": {},
     "output_type": "execute_result"
    },
    {
     "data": {
      "image/png": "[encoded data removed]",
      "text/plain": [
       "<matplotlib.figure.Figure at 0x7f10d0b6fd50>"
      ]
     },
     "metadata": {},
     "output_type": "display_data"
    }
   ],
   "source": [
    "dfDur = dfDuration[dfDuration <= 2000]\n",
    "dfDur.hist(bins=100)"
   ]
  },
  {
   "cell_type": "markdown",
   "metadata": {},
   "source": [
    "How many trips were above 3600, anyway?"
   ]
  },
  {
   "cell_type": "code",
   "execution_count": 6,
   "metadata": {
    "collapsed": false
   },
   "outputs": [
    {
     "data": {
      "text/plain": [
       "count    138320.000000\n",
       "mean        623.471833\n",
       "std         444.857020\n",
       "min          60.000000\n",
       "25%         342.000000\n",
       "50%         515.000000\n",
       "75%         752.000000\n",
       "max        3600.000000\n",
       "Name: duration, dtype: float64"
      ]
     },
     "execution_count": 6,
     "metadata": {},
     "output_type": "execute_result"
    }
   ],
   "source": [
    "dfDur = dfDuration[dfDuration <= 3600]\n",
    "dfDur.describe()"
   ]
  },
  {
   "cell_type": "markdown",
   "metadata": {},
   "source": [
    "5695, or about 4%. Cool. Let's check out what time of day people tend to start their bike trips (by hour)."
   ]
  },
  {
   "cell_type": "code",
   "execution_count": 7,
   "metadata": {
    "collapsed": false
   },
   "outputs": [
    {
     "data": {
      "text/plain": [
       "<matplotlib.axes._subplots.AxesSubplot at 0x7f10d0a89210>"
      ]
     },
     "execution_count": 7,
     "metadata": {},
     "output_type": "execute_result"
    },
    {
     "data": {
      "image/png": "[encoded data removed]",
      "text/plain": [
       "<matplotlib.figure.Figure at 0x7f10d0b31cd0>"
      ]
     },
     "metadata": {},
     "output_type": "display_data"
    }
   ],
   "source": [
    "dfDates = dfbikes['start_date']\n",
    "dfHour = dfDates.map(lambda x: x.hour)\n",
    "dfHour.hist(bins=24)"
   ]
  },
  {
   "cell_type": "markdown",
   "metadata": {},
   "source": [
    "Big peaks at 8 AM to 9 AM and 5 PM to 6PM. Commuters!\n",
    "Let's split up the data into Weekday and Weekend to see how big this commuter effect is.\n",
    "I've already cast the date as a Timestamp object when importing, so now I can call Timestamp.weekday, which gives 0 for Monday and 6 for Sunday. "
   ]
  },
  {
   "cell_type": "code",
   "execution_count": 8,
   "metadata": {
    "collapsed": true
   },
   "outputs": [],
   "source": [
    "dfWeekdaydata = dfbikes[dfbikes['start_date'].map(lambda x: x.weekday() < 5)] \n",
    "dfWeekenddata = dfbikes[dfbikes['start_date'].map(lambda x: x.weekday() >= 5)]"
   ]
  },
  {
   "cell_type": "code",
   "execution_count": 9,
   "metadata": {
    "collapsed": true
   },
   "outputs": [],
   "source": [
    "dfWeekdayhour = dfWeekdaydata['start_date'].map(lambda x: x.hour)\n",
    "dfWeekendhour = dfWeekenddata['start_date'].map(lambda x: x.hour)"
   ]
  },
  {
   "cell_type": "code",
   "execution_count": 10,
   "metadata": {
    "collapsed": false
   },
   "outputs": [
    {
     "data": {
      "text/plain": [
       "<matplotlib.axes._subplots.AxesSubplot at 0x7f10ccd31fd0>"
      ]
     },
     "execution_count": 10,
     "metadata": {},
     "output_type": "execute_result"
    },
    {
     "data": {
      "image/png": "[encoded data removed]",
      "text/plain": [
       "<matplotlib.figure.Figure at 0x7f10ccd4b4d0>"
      ]
     },
     "metadata": {},
     "output_type": "display_data"
    }
   ],
   "source": [
    "dfWeekdayhour.hist(bins=24)"
   ]
  },
  {
   "cell_type": "code",
   "execution_count": 11,
   "metadata": {
    "collapsed": false
   },
   "outputs": [
    {
     "data": {
      "text/plain": [
       "<matplotlib.axes._subplots.AxesSubplot at 0x7f10cba6be90>"
      ]
     },
     "execution_count": 11,
     "metadata": {},
     "output_type": "execute_result"
    },
    {
     "data": {
      "image/png": "[encoded data removed]",
      "text/plain": [
       "<matplotlib.figure.Figure at 0x7f10cb418790>"
      ]
     },
     "metadata": {},
     "output_type": "display_data"
    }
   ],
   "source": [
    "dfWeekendhour.hist(bins=24)"
   ]
  },
  {
   "cell_type": "markdown",
   "metadata": {},
   "source": [
    "Look at that, people are free to structure their time during the weekend and they stay pretty centered around midday. I'd also wager that those are some late-night barhoppers and showgoers taking the midnight and 1AM bikes. TGIF, right?"
   ]
  },
  {
   "cell_type": "markdown",
   "metadata": {},
   "source": [
    "For fun, let's also check out what kind of effect the weekend has on the ride duration."
   ]
  },
  {
   "cell_type": "code",
   "execution_count": 12,
   "metadata": {
    "collapsed": false
   },
   "outputs": [
    {
     "data": {
      "text/plain": [
       "count    121015.000000\n",
       "mean       1012.765360\n",
       "std        5680.684498\n",
       "min          60.000000\n",
       "25%         337.000000\n",
       "50%         505.000000\n",
       "75%         733.000000\n",
       "max      619322.000000\n",
       "Name: duration, dtype: float64"
      ]
     },
     "execution_count": 12,
     "metadata": {},
     "output_type": "execute_result"
    }
   ],
   "source": [
    "dfWeekdaydata['duration'].describe()"
   ]
  },
  {
   "cell_type": "code",
   "execution_count": 13,
   "metadata": {
    "collapsed": false
   },
   "outputs": [
    {
     "data": {
      "text/plain": [
       "count     23000.000000\n",
       "mean       2378.683652\n",
       "std       10285.571282\n",
       "min          60.000000\n",
       "25%         455.000000\n",
       "50%         765.000000\n",
       "75%        1389.250000\n",
       "max      722236.000000\n",
       "Name: duration, dtype: float64"
      ]
     },
     "execution_count": 13,
     "metadata": {},
     "output_type": "execute_result"
    }
   ],
   "source": [
    "dfWeekenddata['duration'].describe()"
   ]
  },
  {
   "cell_type": "markdown",
   "metadata": {},
   "source": [
    "Naturally, people have more time during the weekend for leisurely rides, and fewer are making the (hopefully) short-ish rides from their BART stop to their office. A weekend median of 765s bears this out compared to 505s, but perhaps more telling is the larger leap up of the 75th percentile to 1389 from 733. More people are hanging out in the longer-duration tail. Let's look at the histograms:"
   ]
  },
  {
   "cell_type": "code",
   "execution_count": 14,
   "metadata": {
    "collapsed": false
   },
   "outputs": [
    {
     "data": {
      "text/plain": [
       "<matplotlib.axes._subplots.AxesSubplot at 0x7f10cc2ae350>"
      ]
     },
     "execution_count": 14,
     "metadata": {},
     "output_type": "execute_result"
    },
    {
     "data": {
      "image/png": "[encoded data removed]",
      "text/plain": [
       "<matplotlib.figure.Figure at 0x7f10cc30fc50>"
      ]
     },
     "metadata": {},
     "output_type": "display_data"
    }
   ],
   "source": [
    "dfWeekdaydata['duration'][dfWeekdaydata['duration'] < 3000].hist(bins=100)"
   ]
  },
  {
   "cell_type": "code",
   "execution_count": 15,
   "metadata": {
    "collapsed": false
   },
   "outputs": [
    {
     "data": {
      "text/plain": [
       "<matplotlib.axes._subplots.AxesSubplot at 0x7f10cc091790>"
      ]
     },
     "execution_count": 15,
     "metadata": {},
     "output_type": "execute_result"
    },
    {
     "data": {
      "image/png": "[encoded data removed]",
      "text/plain": [
       "<matplotlib.figure.Figure at 0x7f10ccd00e10>"
      ]
     },
     "metadata": {},
     "output_type": "display_data"
    }
   ],
   "source": [
    "dfWeekenddata['duration'][dfWeekenddata['duration'] < 3000].hist(bins=100)"
   ]
  },
  {
   "cell_type": "markdown",
   "metadata": {
    "collapsed": false
   },
   "source": [
    "# 2.\n",
    "Let's look at the histograms of trip duration grouped by each city. The city is in the 'landmark' column of the 'station data' file, so let's load that and merge it with the trip data."
   ]
  },
  {
   "cell_type": "code",
   "execution_count": 16,
   "metadata": {
    "collapsed": false
   },
   "outputs": [],
   "source": [
    "dfstations = pd.read_csv('data/bay_area_bikeshare/201402_station_data_v2.csv', parse_dates=['installation'])"
   ]
  },
  {
   "cell_type": "code",
   "execution_count": 17,
   "metadata": {
    "collapsed": false
   },
   "outputs": [],
   "source": [
    "dfbikewithstations = pd.merge(dfbikes, dfstations, left_on='start_terminal', right_on='station_id')"
   ]
  },
  {
   "cell_type": "markdown",
   "metadata": {
    "collapsed": false
   },
   "source": [
    "Let's only look at trips under 2000s."
   ]
  },
  {
   "cell_type": "code",
   "execution_count": 18,
   "metadata": {
    "collapsed": false
   },
   "outputs": [],
   "source": [
    "dfbikewithstationsubset = dfbikewithstations[dfbikewithstations['duration'] <= 2000]"
   ]
  },
  {
   "cell_type": "code",
   "execution_count": 19,
   "metadata": {
    "collapsed": false
   },
   "outputs": [
    {
     "data": {
      "text/plain": [
       "array([[<matplotlib.axes._subplots.AxesSubplot object at 0x7f10cbd77c50>,\n",
       "        <matplotlib.axes._subplots.AxesSubplot object at 0x7f10cbb20dd0>],\n",
       "       [<matplotlib.axes._subplots.AxesSubplot object at 0x7f10cba9ff10>,\n",
       "        <matplotlib.axes._subplots.AxesSubplot object at 0x7f10cb9c1e50>],\n",
       "       [<matplotlib.axes._subplots.AxesSubplot object at 0x7f10cb951410>,\n",
       "        <matplotlib.axes._subplots.AxesSubplot object at 0x7f10cb91bcd0>]], dtype=object)"
      ]
     },
     "execution_count": 19,
     "metadata": {},
     "output_type": "execute_result"
    },
    {
     "data": {
      "image/png": "[encoded data removed]",
      "text/plain": [
       "<matplotlib.figure.Figure at 0x7f10cbbbad90>"
      ]
     },
     "metadata": {},
     "output_type": "display_data"
    }
   ],
   "source": [
    "dfbikewithstationsubset.hist(column='duration', by='landmark', bins=100)"
   ]
  },
  {
   "cell_type": "markdown",
   "metadata": {
    "collapsed": false
   },
   "source": [
    "(a larger version of this graph is in my forked repo)"
   ]
  },
  {
   "cell_type": "markdown",
   "metadata": {
    "collapsed": true
   },
   "source": [
    "SF's huge number of riders compared to the other cities gives it a smooth, less noisy distribution. Also the fact that it has more bike stations gives more variety to the possible trip routes. Palo Alto's numbers are very small, but might point to longer trip durations. Maybe they just got stations? Let's check the earliest station installation date in the data for each city."
   ]
  },
  {
   "cell_type": "code",
   "execution_count": 20,
   "metadata": {
    "collapsed": false
   },
   "outputs": [
    {
     "data": {
      "text/plain": [
       "landmark\n",
       "Mountain View   2013-08-15\n",
       "Palo Alto       2013-08-14\n",
       "Redwood City    2013-08-12\n",
       "San Francisco   2013-08-19\n",
       "San Jose        2013-08-05\n",
       "Name: installation, dtype: datetime64[ns]"
      ]
     },
     "execution_count": 20,
     "metadata": {},
     "output_type": "execute_result"
    }
   ],
   "source": [
    "dfbikewithstations.groupby('landmark').installation.min()"
   ]
  },
  {
   "cell_type": "markdown",
   "metadata": {},
   "source": [
    "Hm, nope. How about the overall station count:"
   ]
  },
  {
   "cell_type": "code",
   "execution_count": 21,
   "metadata": {
    "collapsed": false
   },
   "outputs": [
    {
     "data": {
      "text/plain": [
       "landmark             \n",
       "Mountain View  count                                         2728\n",
       "               unique                                           7\n",
       "               top                 Mountain View Caltrain Station\n",
       "               freq                                          1154\n",
       "Palo Alto      count                                         1706\n",
       "               unique                                           5\n",
       "               top                         University and Emerson\n",
       "               freq                                           434\n",
       "Redwood City   count                                          793\n",
       "               unique                                           7\n",
       "               top                  Redwood City Caltrain Station\n",
       "               freq                                           378\n",
       "San Francisco  count                                       129853\n",
       "               unique                                          35\n",
       "               top       San Francisco Caltrain (Townsend at 4th)\n",
       "               freq                                          9838\n",
       "San Jose       count                                         8935\n",
       "               unique                                          15\n",
       "               top              San Jose Diridon Caltrain Station\n",
       "               freq                                          1972\n",
       "dtype: object"
      ]
     },
     "execution_count": 21,
     "metadata": {},
     "output_type": "execute_result"
    }
   ],
   "source": [
    " dfbikewithstations.groupby('landmark')['name'].describe()"
   ]
  },
  {
   "cell_type": "markdown",
   "metadata": {},
   "source": [
    "Here we're only interested in the \"unique\" number. 7, 5, 7... no wonder. Here are the basic stats for each city, just 'cause."
   ]
  },
  {
   "cell_type": "code",
   "execution_count": 22,
   "metadata": {
    "collapsed": false
   },
   "outputs": [
    {
     "data": {
      "text/plain": [
       "landmark            \n",
       "Mountain View  count      2728.000000\n",
       "               mean       2681.418988\n",
       "               std       17025.970019\n",
       "               min          62.000000\n",
       "               25%         246.000000\n",
       "               50%         311.000000\n",
       "               75%         785.000000\n",
       "               max      586356.000000\n",
       "Palo Alto      count      1706.000000\n",
       "               mean       4635.689918\n",
       "               std       27549.270494\n",
       "               min          66.000000\n",
       "               25%         363.250000\n",
       "               50%         934.000000\n",
       "               75%        2091.750000\n",
       "               max      722236.000000\n",
       "Redwood City   count       793.000000\n",
       "               mean       2945.804540\n",
       "               std       13995.149644\n",
       "               min          60.000000\n",
       "               25%         228.000000\n",
       "               50%         284.000000\n",
       "               75%         470.000000\n",
       "               max      229914.000000\n",
       "San Francisco  count    129853.000000\n",
       "               mean       1133.965253\n",
       "               std        4910.991058\n",
       "               min          60.000000\n",
       "               25%         360.000000\n",
       "               50%         539.000000\n",
       "               75%         797.000000\n",
       "               max      429384.000000\n",
       "San Jose       count      8935.000000\n",
       "               mean       1394.662899\n",
       "               std       10439.250459\n",
       "               min          62.000000\n",
       "               25%         286.000000\n",
       "               50%         445.000000\n",
       "               75%         679.000000\n",
       "               max      619322.000000\n",
       "dtype: float64"
      ]
     },
     "execution_count": 22,
     "metadata": {},
     "output_type": "execute_result"
    }
   ],
   "source": [
    "dfbikewithstations.groupby('landmark')['duration'].describe()"
   ]
  },
  {
   "cell_type": "markdown",
   "metadata": {},
   "source": [
    "# 3."
   ]
  },
  {
   "cell_type": "markdown",
   "metadata": {},
   "source": [
    "I want to see a scatterplot showing the median duration of trips leaving from each station versus the hour of departure, colored differently according to whether or not the trip returned to its origin station."
   ]
  },
  {
   "cell_type": "code",
   "execution_count": 87,
   "metadata": {
    "collapsed": true
   },
   "outputs": [],
   "source": [
    "dfbikewithstations['isround'] = dfbikewithstations['start_terminal'] == dfbikewithstations['end_terminal']"
   ]
  },
  {
   "cell_type": "code",
   "execution_count": null,
   "metadata": {
    "collapsed": false
   },
   "outputs": [],
   "source": []
  },
  {
   "cell_type": "code",
   "execution_count": null,
   "metadata": {
    "collapsed": false
   },
   "outputs": [],
   "source": []
  },
  {
   "cell_type": "code",
   "execution_count": null,
   "metadata": {
    "collapsed": false
   },
   "outputs": [],
   "source": []
  },
  {
   "cell_type": "code",
   "execution_count": null,
   "metadata": {
    "collapsed": false,
    "scrolled": true
   },
   "outputs": [],
   "source": []
  },
  {
   "cell_type": "code",
   "execution_count": null,
   "metadata": {
    "collapsed": true
   },
   "outputs": [],
   "source": []
  }
 ],
 "metadata": {
  "kernelspec": {
   "display_name": "Python 2",
   "language": "python",
   "name": "python2"
  },
  "language_info": {
   "codemirror_mode": {
    "name": "ipython",
    "version": 2
   },
   "file_extension": ".py",
   "mimetype": "text/x-python",
   "name": "python",
   "nbconvert_exporter": "python",
   "pygments_lexer": "ipython2",
   "version": "2.7.10"
  }
 },
 "nbformat": 4,
 "nbformat_minor": 0
}
